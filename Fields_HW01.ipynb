{
 "cells": [
  {
   "cell_type": "markdown",
   "metadata": {},
   "source": [
    "## Math 565 Homework 1"
   ]
  },
  {
   "cell_type": "code",
   "execution_count": 2,
   "metadata": {},
   "outputs": [],
   "source": [
    "import numpy as np\n",
    "import matplotlib.pyplot as plt"
   ]
  },
  {
   "cell_type": "markdown",
   "metadata": {},
   "source": [
    "# Problem 01"
   ]
  },
  {
   "cell_type": "code",
   "execution_count": 2,
   "metadata": {},
   "outputs": [
    {
     "name": "stdout",
     "output_type": "stream",
     "text": [
      "The approximated solution of sqrt(5.000000) is  2.23606797749979\n",
      "The solution of sqrt(5.000000) given by np.sqrt() is  2.23606797749979\n",
      "the error of approx vs np.sqrt() is  0.0\n",
      "How about that!\n"
     ]
    }
   ],
   "source": [
    "#Find square root of real number a>0\n",
    "def sqroot_finder(a=5, x_0=5, kmax=20, tol=1e-12):\n",
    "    xold = x_0\n",
    "    xnew=0\n",
    "    k=0\n",
    "    while (abs(xnew-xold))>tol or k<=kmax:\n",
    "        xnew = .5*(xold+a/xold)\n",
    "        xold = xnew\n",
    "        k += 1\n",
    "    return xnew\n",
    "   \n",
    "#find squre root of a   \n",
    "a = 5\n",
    "print(\"The approximated solution of sqrt(%f) is \" %a, sqroot_finder(a))        \n",
    "#numpy solustion is:\n",
    "print(\"The solution of sqrt(%f) given by np.sqrt() is \" %a, np.sqrt(5))\n",
    "#the error vs np.sqrt() is:\n",
    "np.sqrt(5) - sqroot_finder()\n",
    "print(\"the error of approx vs np.sqrt() is \", np.sqrt(5) - sqroot_finder(a))\n",
    "print(\"How about that!\")"
   ]
  },
  {
   "cell_type": "markdown",
   "metadata": {},
   "source": [
    "# Problem 2"
   ]
  },
  {
   "cell_type": "code",
   "execution_count": 3,
   "metadata": {},
   "outputs": [
    {
     "name": "stdout",
     "output_type": "stream",
     "text": [
      "Using our algorithm to evaluate f with n=10 we have:  0.7849814972267897\n",
      "Using our algorithm to evaluate f with n=10 we have:  0.7852939967385322\n"
     ]
    }
   ],
   "source": [
    "#Use the trapezoidal rule to approximate a definite integral\n",
    "#Trapezoidal rule\n",
    "def trapz(f,a,b,n=10):\n",
    "    h = (b-a)/n\n",
    "    x = np.array([a + i*h for i in range(1,n)])\n",
    "    sumz = np.sum(f(x))\n",
    "    return (h/(2))*(f(a)+2*sumz+f(b))\n",
    "\n",
    "def f(x):\n",
    "    return 1/(1+x**2)\n",
    "\n",
    "print(\"Using our algorithm to evaluate f with n=10 we have: \",trapz(f, 0, 1 ,n=10))\n",
    "print(\"Using our algorithm to evaluate f with n=10 we have: \",trapz(f, 0, 1 ,n=20))"
   ]
  },
  {
   "cell_type": "markdown",
   "metadata": {},
   "source": [
    "# Problem 3"
   ]
  },
  {
   "cell_type": "markdown",
   "metadata": {},
   "source": [
    "**a. How many additions and multiplications are required to evaluae $P(x)$ for a given value of $x$?**\n",
    "\n",
    "The number of additions required to evaluate $P(x)$ is one less than the number of terms in the polynomial. This occurs becuase addition is a binrary operation. \n",
    "\n",
    "To calculate the number of multiplications required consider that the $n^{th}$ term will require n multiplications. To calculate the exponint will require n-1 operations, as it is a binary operation like addition, and and additional multiplication for the coeffecient. Then to evaluate $P(x)$ we will have $\\sum_{i=0}^n i = \\frac{n^2-n}{2}$ total multiplications."
   ]
  },
  {
   "cell_type": "markdown",
   "metadata": {},
   "source": [
    "**b. Can you devise an algorithm that reduces the number of arthmetic operations? How many multiplications and how many additions are required by your algorithm?**\n",
    "\n",
    "I can't see any feasible way to decease the number of additions as the number of terms in the sum ca't be reduced. The number of multiplications, however, can be reduced.\n",
    "\n",
    "i. Add the constant term $a_0$ and and the first order term $a_cx$ \n",
    "\n",
    "ii. Multiply x and $a_2x$, this will yield $a_2x^2$, add to previous sum, save the value of $x^2$\n",
    "\n",
    "iii. Continue by multiplying each succesive $a_ix$ by the exponent from the previous term, adding to the previous sum and saving the value of $x^i$ until all of the term are accounted for\n",
    "\n",
    "This algotrithm will calculate the polynomial with 0 multiplicatons for first term, 1 for the second and 2 for the remaining terms of the polynomial. Then there will be n-1 additions, as before and 2*(n-1)-3 multiplications."
   ]
  },
  {
   "cell_type": "code",
   "execution_count": 8,
   "metadata": {},
   "outputs": [
    {
     "data": {
      "text/plain": [
       "[<matplotlib.lines.Line2D at 0x11320a7d0>]"
      ]
     },
     "execution_count": 8,
     "metadata": {},
     "output_type": "execute_result"
    },
    {
     "data": {
      "image/png": "[encoded data removed]",
      "text/plain": [
       "<Figure size 432x288 with 1 Axes>"
      ]
     },
     "metadata": {
      "needs_background": "light"
     },
     "output_type": "display_data"
    }
   ],
   "source": [
    "#Polynomial\n",
    "def polyval(coef,x):\n",
    "    n = len(list(coef))\n",
    "    coef = coef[::-1]\n",
    "    P_x = coef[0] + coef[1]*x\n",
    "    x_n = np.copy(x)\n",
    "    for i in range(2,n):\n",
    "        x_n*= x\n",
    "        P_x += x_n*coef[i]\n",
    "    return P_x\n",
    "\n",
    "coef = [3.1, np.pi, -1, 0, 4.7, 4]\n",
    "polyval(coef,1)\n",
    "\n",
    "domain = np.linspace(-2,2,100)\n",
    "plt.plot(domain, polyval(coef, domain))"
   ]
  },
  {
   "cell_type": "code",
   "execution_count": null,
   "metadata": {},
   "outputs": [],
   "source": []
  }
 ],
 "metadata": {
  "kernelspec": {
   "display_name": "Python 3",
   "language": "python",
   "name": "python3"
  },
  "language_info": {
   "codemirror_mode": {
    "name": "ipython",
    "version": 3
   },
   "file_extension": ".py",
   "mimetype": "text/x-python",
   "name": "python",
   "nbconvert_exporter": "python",
   "pygments_lexer": "ipython3",
   "version": "3.7.6"
  }
 },
 "nbformat": 4,
 "nbformat_minor": 4
}
